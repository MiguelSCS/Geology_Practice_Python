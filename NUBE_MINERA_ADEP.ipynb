{
 "cells": [
  {
   "cell_type": "code",
   "execution_count": 35,
   "metadata": {},
   "outputs": [],
   "source": [
    "import pandas as pd\n",
    "import numpy as np\n",
    "import matplotlib.pyplot as plt"
   ]
  },
  {
   "cell_type": "markdown",
   "metadata": {},
   "source": [
    "# 1 Lectura de Dataset"
   ]
  },
  {
   "cell_type": "code",
   "execution_count": 36,
   "metadata": {},
   "outputs": [],
   "source": [
    "df = pd.read_excel(\"C:/Users/UserPro/Examen_Python_ADEP/\" + \"Datos.xlsx\")"
   ]
  },
  {
   "cell_type": "code",
   "execution_count": 37,
   "metadata": {},
   "outputs": [
    {
     "data": {
      "text/html": [
       "<div>\n",
       "<style scoped>\n",
       "    .dataframe tbody tr th:only-of-type {\n",
       "        vertical-align: middle;\n",
       "    }\n",
       "\n",
       "    .dataframe tbody tr th {\n",
       "        vertical-align: top;\n",
       "    }\n",
       "\n",
       "    .dataframe thead th {\n",
       "        text-align: right;\n",
       "    }\n",
       "</style>\n",
       "<table border=\"1\" class=\"dataframe\">\n",
       "  <thead>\n",
       "    <tr style=\"text-align: right;\">\n",
       "      <th></th>\n",
       "      <th>id</th>\n",
       "      <th>ESTACION</th>\n",
       "      <th>Coordenates X (ETRS89)</th>\n",
       "      <th>Coordenates Y (ETRS89)</th>\n",
       "      <th>NO (µg/m3)</th>\n",
       "      <th>NO2 (µg/m3)</th>\n",
       "      <th>NOX (µg/m3)</th>\n",
       "      <th>PM10 (µg/m3)</th>\n",
       "      <th>Province</th>\n",
       "      <th>Town</th>\n",
       "      <th>Address</th>\n",
       "    </tr>\n",
       "  </thead>\n",
       "  <tbody>\n",
       "    <tr>\n",
       "      <th>0</th>\n",
       "      <td>1</td>\n",
       "      <td>3_DE_MARZO</td>\n",
       "      <td>527141.4365</td>\n",
       "      <td>4.744883e+06</td>\n",
       "      <td>8.782967</td>\n",
       "      <td>21.189560</td>\n",
       "      <td>34.472527</td>\n",
       "      <td>13.518414</td>\n",
       "      <td>Araba/Álava</td>\n",
       "      <td>Vitoria-Gasteiz</td>\n",
       "      <td>Plaza Tres de Marzo, s/n</td>\n",
       "    </tr>\n",
       "    <tr>\n",
       "      <th>1</th>\n",
       "      <td>2</td>\n",
       "      <td>ABANTO</td>\n",
       "      <td>493987.1750</td>\n",
       "      <td>4.796407e+06</td>\n",
       "      <td>5.199446</td>\n",
       "      <td>16.462604</td>\n",
       "      <td>24.204420</td>\n",
       "      <td>12.486567</td>\n",
       "      <td>Bizkaia</td>\n",
       "      <td>Abanto y Ciérvana-Abanto Zierbena</td>\n",
       "      <td>Avda. del Minero, 2. Ayuntamiento</td>\n",
       "    </tr>\n",
       "    <tr>\n",
       "      <th>2</th>\n",
       "      <td>3</td>\n",
       "      <td>AGURAIN</td>\n",
       "      <td>549539.1393</td>\n",
       "      <td>4.744226e+06</td>\n",
       "      <td>4.480556</td>\n",
       "      <td>10.763889</td>\n",
       "      <td>17.708333</td>\n",
       "      <td>13.538674</td>\n",
       "      <td>Araba/Álava</td>\n",
       "      <td>Agurain/Salvatierra</td>\n",
       "      <td>C/ Fueros, 11. Subcomisaría de la Ertzaintza.</td>\n",
       "    </tr>\n",
       "    <tr>\n",
       "      <th>3</th>\n",
       "      <td>4</td>\n",
       "      <td>ALGORTA_BBIZI2</td>\n",
       "      <td>498154.0000</td>\n",
       "      <td>4.801022e+06</td>\n",
       "      <td>6.953297</td>\n",
       "      <td>13.560440</td>\n",
       "      <td>24.123626</td>\n",
       "      <td>20.903846</td>\n",
       "      <td>Bizkaia</td>\n",
       "      <td>Getxo</td>\n",
       "      <td>Carretera de Galea, s/n</td>\n",
       "    </tr>\n",
       "    <tr>\n",
       "      <th>4</th>\n",
       "      <td>5</td>\n",
       "      <td>ALONSOTEGI</td>\n",
       "      <td>500972.2158</td>\n",
       "      <td>4.788307e+06</td>\n",
       "      <td>2.454545</td>\n",
       "      <td>11.559659</td>\n",
       "      <td>15.312500</td>\n",
       "      <td>12.463687</td>\n",
       "      <td>Bizkaia</td>\n",
       "      <td>Alonsotegi</td>\n",
       "      <td>C/ Baztieta, s/n. Bº Irauregi</td>\n",
       "    </tr>\n",
       "  </tbody>\n",
       "</table>\n",
       "</div>"
      ],
      "text/plain": [
       "   id        ESTACION  Coordenates X (ETRS89)  Coordenates Y (ETRS89)  \\\n",
       "0   1      3_DE_MARZO             527141.4365            4.744883e+06   \n",
       "1   2          ABANTO             493987.1750            4.796407e+06   \n",
       "2   3         AGURAIN             549539.1393            4.744226e+06   \n",
       "3   4  ALGORTA_BBIZI2             498154.0000            4.801022e+06   \n",
       "4   5      ALONSOTEGI             500972.2158            4.788307e+06   \n",
       "\n",
       "   NO (µg/m3)  NO2 (µg/m3)  NOX (µg/m3)  PM10 (µg/m3)     Province  \\\n",
       "0    8.782967    21.189560    34.472527     13.518414  Araba/Álava   \n",
       "1    5.199446    16.462604    24.204420     12.486567      Bizkaia   \n",
       "2    4.480556    10.763889    17.708333     13.538674  Araba/Álava   \n",
       "3    6.953297    13.560440    24.123626     20.903846      Bizkaia   \n",
       "4    2.454545    11.559659    15.312500     12.463687      Bizkaia   \n",
       "\n",
       "                                Town  \\\n",
       "0                    Vitoria-Gasteiz   \n",
       "1  Abanto y Ciérvana-Abanto Zierbena   \n",
       "2                Agurain/Salvatierra   \n",
       "3                              Getxo   \n",
       "4                         Alonsotegi   \n",
       "\n",
       "                                         Address  \n",
       "0                       Plaza Tres de Marzo, s/n  \n",
       "1              Avda. del Minero, 2. Ayuntamiento  \n",
       "2  C/ Fueros, 11. Subcomisaría de la Ertzaintza.  \n",
       "3                       Carretera de Galea, s/n   \n",
       "4                  C/ Baztieta, s/n. Bº Irauregi  "
      ]
     },
     "execution_count": 37,
     "metadata": {},
     "output_type": "execute_result"
    }
   ],
   "source": [
    "df.head()"
   ]
  },
  {
   "cell_type": "markdown",
   "metadata": {},
   "source": [
    "# 2 División de las Coordenadas"
   ]
  },
  {
   "cell_type": "code",
   "execution_count": 38,
   "metadata": {},
   "outputs": [
    {
     "data": {
      "text/html": [
       "<div>\n",
       "<style scoped>\n",
       "    .dataframe tbody tr th:only-of-type {\n",
       "        vertical-align: middle;\n",
       "    }\n",
       "\n",
       "    .dataframe tbody tr th {\n",
       "        vertical-align: top;\n",
       "    }\n",
       "\n",
       "    .dataframe thead th {\n",
       "        text-align: right;\n",
       "    }\n",
       "</style>\n",
       "<table border=\"1\" class=\"dataframe\">\n",
       "  <thead>\n",
       "    <tr style=\"text-align: right;\">\n",
       "      <th></th>\n",
       "      <th>id</th>\n",
       "      <th>ESTACION</th>\n",
       "      <th>Coordenates X (ETRS89)</th>\n",
       "      <th>Coordenates Y (ETRS89)</th>\n",
       "      <th>NO (µg/m3)</th>\n",
       "      <th>NO2 (µg/m3)</th>\n",
       "      <th>NOX (µg/m3)</th>\n",
       "      <th>PM10 (µg/m3)</th>\n",
       "      <th>Province</th>\n",
       "      <th>Town</th>\n",
       "      <th>Address</th>\n",
       "      <th>X</th>\n",
       "      <th>Y</th>\n",
       "    </tr>\n",
       "  </thead>\n",
       "  <tbody>\n",
       "    <tr>\n",
       "      <th>0</th>\n",
       "      <td>1</td>\n",
       "      <td>3_DE_MARZO</td>\n",
       "      <td>527141.4365</td>\n",
       "      <td>4.744883e+06</td>\n",
       "      <td>8.782967</td>\n",
       "      <td>21.189560</td>\n",
       "      <td>34.472527</td>\n",
       "      <td>13.518414</td>\n",
       "      <td>Araba/Álava</td>\n",
       "      <td>Vitoria-Gasteiz</td>\n",
       "      <td>Plaza Tres de Marzo, s/n</td>\n",
       "      <td>52.714144</td>\n",
       "      <td>474.488289</td>\n",
       "    </tr>\n",
       "    <tr>\n",
       "      <th>1</th>\n",
       "      <td>2</td>\n",
       "      <td>ABANTO</td>\n",
       "      <td>493987.1750</td>\n",
       "      <td>4.796407e+06</td>\n",
       "      <td>5.199446</td>\n",
       "      <td>16.462604</td>\n",
       "      <td>24.204420</td>\n",
       "      <td>12.486567</td>\n",
       "      <td>Bizkaia</td>\n",
       "      <td>Abanto y Ciérvana-Abanto Zierbena</td>\n",
       "      <td>Avda. del Minero, 2. Ayuntamiento</td>\n",
       "      <td>49.398717</td>\n",
       "      <td>479.640656</td>\n",
       "    </tr>\n",
       "    <tr>\n",
       "      <th>2</th>\n",
       "      <td>3</td>\n",
       "      <td>AGURAIN</td>\n",
       "      <td>549539.1393</td>\n",
       "      <td>4.744226e+06</td>\n",
       "      <td>4.480556</td>\n",
       "      <td>10.763889</td>\n",
       "      <td>17.708333</td>\n",
       "      <td>13.538674</td>\n",
       "      <td>Araba/Álava</td>\n",
       "      <td>Agurain/Salvatierra</td>\n",
       "      <td>C/ Fueros, 11. Subcomisaría de la Ertzaintza.</td>\n",
       "      <td>54.953914</td>\n",
       "      <td>474.422637</td>\n",
       "    </tr>\n",
       "    <tr>\n",
       "      <th>3</th>\n",
       "      <td>4</td>\n",
       "      <td>ALGORTA_BBIZI2</td>\n",
       "      <td>498154.0000</td>\n",
       "      <td>4.801022e+06</td>\n",
       "      <td>6.953297</td>\n",
       "      <td>13.560440</td>\n",
       "      <td>24.123626</td>\n",
       "      <td>20.903846</td>\n",
       "      <td>Bizkaia</td>\n",
       "      <td>Getxo</td>\n",
       "      <td>Carretera de Galea, s/n</td>\n",
       "      <td>49.815400</td>\n",
       "      <td>480.102200</td>\n",
       "    </tr>\n",
       "    <tr>\n",
       "      <th>4</th>\n",
       "      <td>5</td>\n",
       "      <td>ALONSOTEGI</td>\n",
       "      <td>500972.2158</td>\n",
       "      <td>4.788307e+06</td>\n",
       "      <td>2.454545</td>\n",
       "      <td>11.559659</td>\n",
       "      <td>15.312500</td>\n",
       "      <td>12.463687</td>\n",
       "      <td>Bizkaia</td>\n",
       "      <td>Alonsotegi</td>\n",
       "      <td>C/ Baztieta, s/n. Bº Irauregi</td>\n",
       "      <td>50.097222</td>\n",
       "      <td>478.830747</td>\n",
       "    </tr>\n",
       "  </tbody>\n",
       "</table>\n",
       "</div>"
      ],
      "text/plain": [
       "   id        ESTACION  Coordenates X (ETRS89)  Coordenates Y (ETRS89)  \\\n",
       "0   1      3_DE_MARZO             527141.4365            4.744883e+06   \n",
       "1   2          ABANTO             493987.1750            4.796407e+06   \n",
       "2   3         AGURAIN             549539.1393            4.744226e+06   \n",
       "3   4  ALGORTA_BBIZI2             498154.0000            4.801022e+06   \n",
       "4   5      ALONSOTEGI             500972.2158            4.788307e+06   \n",
       "\n",
       "   NO (µg/m3)  NO2 (µg/m3)  NOX (µg/m3)  PM10 (µg/m3)     Province  \\\n",
       "0    8.782967    21.189560    34.472527     13.518414  Araba/Álava   \n",
       "1    5.199446    16.462604    24.204420     12.486567      Bizkaia   \n",
       "2    4.480556    10.763889    17.708333     13.538674  Araba/Álava   \n",
       "3    6.953297    13.560440    24.123626     20.903846      Bizkaia   \n",
       "4    2.454545    11.559659    15.312500     12.463687      Bizkaia   \n",
       "\n",
       "                                Town  \\\n",
       "0                    Vitoria-Gasteiz   \n",
       "1  Abanto y Ciérvana-Abanto Zierbena   \n",
       "2                Agurain/Salvatierra   \n",
       "3                              Getxo   \n",
       "4                         Alonsotegi   \n",
       "\n",
       "                                         Address          X           Y  \n",
       "0                       Plaza Tres de Marzo, s/n  52.714144  474.488289  \n",
       "1              Avda. del Minero, 2. Ayuntamiento  49.398717  479.640656  \n",
       "2  C/ Fueros, 11. Subcomisaría de la Ertzaintza.  54.953914  474.422637  \n",
       "3                       Carretera de Galea, s/n   49.815400  480.102200  \n",
       "4                  C/ Baztieta, s/n. Bº Irauregi  50.097222  478.830747  "
      ]
     },
     "execution_count": 38,
     "metadata": {},
     "output_type": "execute_result"
    }
   ],
   "source": [
    "df[\"X\"] = df['Coordenates X (ETRS89)']/10000\n",
    "df[\"Y\"] = df ['Coordenates Y (ETRS89)']/10000\n",
    "df.head()"
   ]
  },
  {
   "cell_type": "code",
   "execution_count": 40,
   "metadata": {},
   "outputs": [
    {
     "data": {
      "text/html": [
       "<div>\n",
       "<style scoped>\n",
       "    .dataframe tbody tr th:only-of-type {\n",
       "        vertical-align: middle;\n",
       "    }\n",
       "\n",
       "    .dataframe tbody tr th {\n",
       "        vertical-align: top;\n",
       "    }\n",
       "\n",
       "    .dataframe thead th {\n",
       "        text-align: right;\n",
       "    }\n",
       "</style>\n",
       "<table border=\"1\" class=\"dataframe\">\n",
       "  <thead>\n",
       "    <tr style=\"text-align: right;\">\n",
       "      <th></th>\n",
       "      <th>X</th>\n",
       "      <th>Y</th>\n",
       "      <th>PM10 (µg/m3)</th>\n",
       "    </tr>\n",
       "  </thead>\n",
       "  <tbody>\n",
       "    <tr>\n",
       "      <th>0</th>\n",
       "      <td>52.714144</td>\n",
       "      <td>474.488289</td>\n",
       "      <td>13.518414</td>\n",
       "    </tr>\n",
       "    <tr>\n",
       "      <th>1</th>\n",
       "      <td>49.398717</td>\n",
       "      <td>479.640656</td>\n",
       "      <td>12.486567</td>\n",
       "    </tr>\n",
       "    <tr>\n",
       "      <th>2</th>\n",
       "      <td>54.953914</td>\n",
       "      <td>474.422637</td>\n",
       "      <td>13.538674</td>\n",
       "    </tr>\n",
       "    <tr>\n",
       "      <th>3</th>\n",
       "      <td>49.815400</td>\n",
       "      <td>480.102200</td>\n",
       "      <td>20.903846</td>\n",
       "    </tr>\n",
       "    <tr>\n",
       "      <th>4</th>\n",
       "      <td>50.097222</td>\n",
       "      <td>478.830747</td>\n",
       "      <td>12.463687</td>\n",
       "    </tr>\n",
       "  </tbody>\n",
       "</table>\n",
       "</div>"
      ],
      "text/plain": [
       "           X           Y  PM10 (µg/m3)\n",
       "0  52.714144  474.488289     13.518414\n",
       "1  49.398717  479.640656     12.486567\n",
       "2  54.953914  474.422637     13.538674\n",
       "3  49.815400  480.102200     20.903846\n",
       "4  50.097222  478.830747     12.463687"
      ]
     },
     "execution_count": 40,
     "metadata": {},
     "output_type": "execute_result"
    }
   ],
   "source": [
    "variables = [\"X\", \"Y\", \"PM10 (µg/m3)\"]\n",
    "df2 = pd.DataFrame(df[variables])\n",
    "df2.head()"
   ]
  },
  {
   "cell_type": "code",
   "execution_count": 41,
   "metadata": {},
   "outputs": [
    {
     "data": {
      "image/png": "[encoded data removed]",
      "text/plain": [
       "<Figure size 432x288 with 2 Axes>"
      ]
     },
     "metadata": {
      "needs_background": "light"
     },
     "output_type": "display_data"
    }
   ],
   "source": [
    "plt.subplot(111)\n",
    "plt.scatter(df2[\"X\"], df[\"Y\"], c=df[\"PM10 (µg/m3)\"], s=50, marker=\"o\", cmap=plt.cm.coolwarm)\n",
    "cbar = plt.colorbar()\n",
    "cbar.set_label(\"PM10 (µg/m3)\", labelpad=+5)\n",
    "plt.xlabel(\"Este [X]\")\n",
    "plt.ylabel(\"Norte [Y]\")\n",
    "plt.subplots_adjust(left=0, bottom=0, right=1.5, top=1.5, wspace=0, hspace=0)\n",
    "plt.show()"
   ]
  },
  {
   "cell_type": "markdown",
   "metadata": {},
   "source": [
    "# 3 Grilla 2x2"
   ]
  },
  {
   "cell_type": "code",
   "execution_count": 44,
   "metadata": {},
   "outputs": [
    {
     "data": {
      "text/html": [
       "<div>\n",
       "<style scoped>\n",
       "    .dataframe tbody tr th:only-of-type {\n",
       "        vertical-align: middle;\n",
       "    }\n",
       "\n",
       "    .dataframe tbody tr th {\n",
       "        vertical-align: top;\n",
       "    }\n",
       "\n",
       "    .dataframe thead th {\n",
       "        text-align: right;\n",
       "    }\n",
       "</style>\n",
       "<table border=\"1\" class=\"dataframe\">\n",
       "  <thead>\n",
       "    <tr style=\"text-align: right;\">\n",
       "      <th></th>\n",
       "      <th>count</th>\n",
       "      <th>mean</th>\n",
       "      <th>std</th>\n",
       "      <th>min</th>\n",
       "      <th>25%</th>\n",
       "      <th>50%</th>\n",
       "      <th>75%</th>\n",
       "      <th>max</th>\n",
       "    </tr>\n",
       "  </thead>\n",
       "  <tbody>\n",
       "    <tr>\n",
       "      <th>X</th>\n",
       "      <td>43.0</td>\n",
       "      <td>53.233151</td>\n",
       "      <td>3.519476</td>\n",
       "      <td>48.107367</td>\n",
       "      <td>50.200022</td>\n",
       "      <td>52.608603</td>\n",
       "      <td>57.179722</td>\n",
       "      <td>58.427223</td>\n",
       "    </tr>\n",
       "    <tr>\n",
       "      <th>Y</th>\n",
       "      <td>43.0</td>\n",
       "      <td>478.225831</td>\n",
       "      <td>2.035226</td>\n",
       "      <td>470.738947</td>\n",
       "      <td>477.818819</td>\n",
       "      <td>478.947507</td>\n",
       "      <td>479.468235</td>\n",
       "      <td>480.593245</td>\n",
       "    </tr>\n",
       "    <tr>\n",
       "      <th>PM10 (µg/m3)</th>\n",
       "      <td>43.0</td>\n",
       "      <td>15.311702</td>\n",
       "      <td>3.559351</td>\n",
       "      <td>8.801170</td>\n",
       "      <td>12.630450</td>\n",
       "      <td>14.580175</td>\n",
       "      <td>16.789548</td>\n",
       "      <td>23.050000</td>\n",
       "    </tr>\n",
       "  </tbody>\n",
       "</table>\n",
       "</div>"
      ],
      "text/plain": [
       "              count        mean       std         min         25%         50%  \\\n",
       "X              43.0   53.233151  3.519476   48.107367   50.200022   52.608603   \n",
       "Y              43.0  478.225831  2.035226  470.738947  477.818819  478.947507   \n",
       "PM10 (µg/m3)   43.0   15.311702  3.559351    8.801170   12.630450   14.580175   \n",
       "\n",
       "                     75%         max  \n",
       "X              57.179722   58.427223  \n",
       "Y             479.468235  480.593245  \n",
       "PM10 (µg/m3)   16.789548   23.050000  "
      ]
     },
     "execution_count": 44,
     "metadata": {},
     "output_type": "execute_result"
    }
   ],
   "source": [
    "df2.describe().transpose()"
   ]
  },
  {
   "cell_type": "code",
   "execution_count": 86,
   "metadata": {},
   "outputs": [],
   "source": [
    "grid_x = np.linspace(48,60, num=6, endpoint=False)\n",
    "grid_y = np.linspace(470,482, num=6, endpoint=False)\n",
    "\n",
    "yg, xg = np.meshgrid(grid_x, grid_y, indexing=\"ij\")\n",
    "\n",
    "x_g = xg.ravel()\n",
    "y_g = yg.ravel()"
   ]
  },
  {
   "cell_type": "markdown",
   "metadata": {},
   "source": [
    "# 4 Interpolacion RBF"
   ]
  },
  {
   "cell_type": "code",
   "execution_count": 87,
   "metadata": {},
   "outputs": [],
   "source": [
    "from scipy.interpolate import Rbf"
   ]
  },
  {
   "cell_type": "code",
   "execution_count": 90,
   "metadata": {},
   "outputs": [
    {
     "data": {
      "image/png": "[encoded data removed]",
      "text/plain": [
       "<Figure size 432x288 with 2 Axes>"
      ]
     },
     "metadata": {
      "needs_background": "light"
     },
     "output_type": "display_data"
    }
   ],
   "source": [
    "x = df2[\"X\"]\n",
    "y = df2[\"Y\"]\n",
    "u = df2[\"PM10 (µg/m3)\"]\n",
    "\n",
    "rbf = Rbf(x, y, u, function=\"linear\")\n",
    "ZI = rbf(xg,yg)\n",
    "\n",
    "plt.subplot(111)\n",
    "plt.scatter(yg, xg, marker=\"s\", s=50, c=ZI, cmap=plt.cm.coolwarm)\n",
    "cbar = plt.colorbar()\n",
    "cbar.set_label(\"PM10 (µg/m3)\")\n",
    "plt.title(\"Interpolación RBF Lineal\")\n",
    "plt.xlabel(\"Este [X]\")\n",
    "plt.ylabel(\"Norte [Y]\")\n",
    "plt.subplots_adjust(left=0, bottom=0, right=1.5, top=1.5, wspace=0, hspace=0)\n",
    "plt.show()"
   ]
  },
  {
   "cell_type": "markdown",
   "metadata": {},
   "source": [
    "# Histogramas"
   ]
  },
  {
   "cell_type": "code",
   "execution_count": 103,
   "metadata": {},
   "outputs": [
    {
     "data": {
      "text/plain": [
       "array([1458.3849893 , 1461.80986806, 1465.24299745, 1468.68431962,\n",
       "       1472.13377712, 1475.59131289, 1454.90799242, 1458.34103661,\n",
       "       1461.78231266, 1465.23176257, 1468.68932874, 1472.15495401,\n",
       "       1451.43907745, 1454.88030694, 1458.32974918, 1461.78734605,\n",
       "       1465.25303982, 1468.72677318, 1447.97830248, 1451.42773699,\n",
       "       1454.88536485, 1458.35112777, 1461.8249679 , 1465.3068278 ,\n",
       "       1444.525726  , 1447.98338514, 1451.44921787, 1454.92316579,\n",
       "       1458.40517091, 1461.89517566, 1441.08140695, 1444.54731016,\n",
       "       1448.02136689, 1451.50351861, 1454.99370719, 1458.49187495])"
      ]
     },
     "execution_count": 103,
     "metadata": {},
     "output_type": "execute_result"
    }
   ],
   "source": [
    "v = ZI.ravel()\n",
    "v"
   ]
  },
  {
   "cell_type": "code",
   "execution_count": 116,
   "metadata": {},
   "outputs": [
    {
     "data": {
      "image/png": "[encoded data removed]",
      "text/plain": [
       "<Figure size 432x288 with 2 Axes>"
      ]
     },
     "metadata": {
      "needs_background": "light"
     },
     "output_type": "display_data"
    }
   ],
   "source": [
    "%matplotlib inline\n",
    "\n",
    "plt.subplot(211)\n",
    "plt.hist(u)\n",
    "plt.title(\"Histograma de Muestras\")\n",
    "plt.xlabel(\"PM10 (µg/m3)\")\n",
    "plt.ylabel(\"Frecuencia\")\n",
    "\n",
    "plt.subplot(212)\n",
    "plt.hist(v)\n",
    "plt.title(\"Histograma del RBF\")\n",
    "plt.xlabel(\"PM10 (µg/m3)\")\n",
    "plt.ylabel(\"Frecuencia\")\n",
    "plt.subplots_adjust(right=1, top=2, hspace=0.25)\n",
    "\n",
    "plt.show()"
   ]
  },
  {
   "cell_type": "code",
   "execution_count": null,
   "metadata": {},
   "outputs": [],
   "source": []
  }
 ],
 "metadata": {
  "kernelspec": {
   "display_name": "Python 3",
   "language": "python",
   "name": "python3"
  },
  "language_info": {
   "codemirror_mode": {
    "name": "ipython",
    "version": 3
   },
   "file_extension": ".py",
   "mimetype": "text/x-python",
   "name": "python",
   "nbconvert_exporter": "python",
   "pygments_lexer": "ipython3",
   "version": "3.8.5"
  }
 },
 "nbformat": 4,
 "nbformat_minor": 4
}
